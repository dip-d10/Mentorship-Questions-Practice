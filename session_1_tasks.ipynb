{
  "nbformat": 4,
  "nbformat_minor": 0,
  "metadata": {
    "colab": {
      "provenance": [],
      "include_colab_link": true
    },
    "kernelspec": {
      "name": "python3",
      "display_name": "Python 3"
    },
    "language_info": {
      "name": "python"
    }
  },
  "cells": [
    {
      "cell_type": "markdown",
      "metadata": {
        "id": "view-in-github",
        "colab_type": "text"
      },
      "source": [
        "<a href=\"https://colab.research.google.com/github/dip-d10/Mentorship-Questions-Practice/blob/main/session_1_tasks.ipynb\" target=\"_parent\"><img src=\"https://colab.research.google.com/assets/colab-badge.svg\" alt=\"Open In Colab\"/></a>"
      ]
    },
    {
      "cell_type": "markdown",
      "source": [
        "# Task : Session 1\n",
        "Solve these questions own your own and try to test yourself what you have learned in the session.\n",
        "\n",
        "Happy Learning!"
      ],
      "metadata": {
        "id": "A05OG15VqOPF"
      }
    },
    {
      "cell_type": "markdown",
      "source": [
        "### Q1 :- Print the given strings as per stated format.\n",
        "\n",
        "**Given strings**:\n",
        "```\n",
        "\"Data\" \"Science\" \"Mentorship\" \"Program\"\n",
        "\"By\" \"CampusX\"\n",
        "```\n",
        "**Output**:\n",
        "```\n",
        "Data-Science-Mentorship-Program-started-By-CampusX\n",
        "```\n",
        "\n",
        "Concept- [Seperator and End]"
      ],
      "metadata": {
        "id": "2doIXf8bqe9_"
      }
    },
    {
      "cell_type": "code",
      "source": [
        "# Write your code here\n",
        "print(\"Data\",\"Science\",\"Mentorship\",\"Program\",sep='-',end='-started-')\n",
        "print(\"By\",\"CampusX\",sep='-')"
      ],
      "metadata": {
        "colab": {
          "base_uri": "https://localhost:8080/"
        },
        "id": "Z5-ehcbQGajw",
        "outputId": "46403366-25e1-4332-e625-1bd15100014f"
      },
      "execution_count": 10,
      "outputs": [
        {
          "output_type": "stream",
          "name": "stdout",
          "text": [
            "Data-Science-Mentorship-Program-started-By-CampusX\n"
          ]
        }
      ]
    },
    {
      "cell_type": "markdown",
      "source": [
        "### Q2:- Write a program that will convert celsius value to fahrenheit."
      ],
      "metadata": {
        "id": "1KUpN7ZTrC3_"
      }
    },
    {
      "cell_type": "code",
      "source": [
        "# Write your code here\n",
        "celcius = float(input('Enter the celcius value'))\n",
        "farenheit = ((celcius* 9/5) + 32)\n",
        "print(f'{celcius} celcius is equivalent to {farenheit} farenheit')\n"
      ],
      "metadata": {
        "id": "yxKYhYQiqWfj",
        "colab": {
          "base_uri": "https://localhost:8080/"
        },
        "outputId": "f8c3b77b-1ef8-4669-9da9-63b16b272300"
      },
      "execution_count": 5,
      "outputs": [
        {
          "output_type": "stream",
          "name": "stdout",
          "text": [
            "Enter the celcius value30\n",
            "30.0 celcius is equivalent to 86.0 farenheit\n"
          ]
        }
      ]
    },
    {
      "cell_type": "markdown",
      "source": [
        "### Q3:- Take 2 numbers as input from the user.Write a program to swap the numbers without using any special python syntax."
      ],
      "metadata": {
        "id": "RLrOBBJurLB2"
      }
    },
    {
      "cell_type": "code",
      "source": [
        "# Write your code here\n",
        "a = int(input('Enter the first value: '))\n",
        "b = int(input('enter the second value: '))\n",
        "c = a\n",
        "a = b\n",
        "b = c\n",
        "print('The value of after swapping the first and second input is: ',a,b)"
      ],
      "metadata": {
        "id": "yPn7if0TrJ4F",
        "colab": {
          "base_uri": "https://localhost:8080/"
        },
        "outputId": "41fa9c93-846f-4617-80d1-092d8700e446"
      },
      "execution_count": 2,
      "outputs": [
        {
          "output_type": "stream",
          "name": "stdout",
          "text": [
            "Enter the first value: 2\n",
            "enter the second value: 3\n",
            "The value of after swapping the first and second input is:  3 2\n"
          ]
        }
      ]
    },
    {
      "cell_type": "markdown",
      "source": [
        "### Q4:- Write a program to find the euclidean distance between two coordinates.Take both the coordinates from the user as input."
      ],
      "metadata": {
        "id": "waLCP1bjr7ML"
      }
    },
    {
      "cell_type": "code",
      "source": [
        "# Write your code here\n",
        "a = list(map(int, input(\"Enter your first coordinate with a comma: \").split(',')))\n",
        "b =  list(map(int, input(\"Enter your second coordinate with a comma: \").split(',')))\n",
        "\n",
        "euclidean_distance = ((b[0]-a[0])**2 +(b[1]-a[1])**2)**0.5\n",
        "print(f'The euclidean distance between {a} & {b} is {euclidean_distance}')"
      ],
      "metadata": {
        "id": "Pl1Sv-xnrxnH",
        "colab": {
          "base_uri": "https://localhost:8080/"
        },
        "outputId": "abc0d283-7408-42a4-c7c8-e73d10cd833d"
      },
      "execution_count": 9,
      "outputs": [
        {
          "output_type": "stream",
          "name": "stdout",
          "text": [
            " enter your first coordinate with a comma: 4,5\n",
            " enter your second coordinate with a comma: 67,76\n",
            "The euclidean distance between [4, 5] & [67, 76] is 94.92101980067429\n"
          ]
        }
      ]
    },
    {
      "cell_type": "markdown",
      "source": [
        "### Q5:- Write a program to find the simple interest when the value of principle,rate of interest and time period is provided by the user.\n"
      ],
      "metadata": {
        "id": "VLrhg-FRsHjR"
      }
    },
    {
      "cell_type": "code",
      "source": [
        "# Write your code here\n",
        "amount = float(input(\"Enter the principal amount:\"))\n",
        "interest = float(input('Enter the interest rate: '))\n",
        "time = float(input('Enter the time period in years: '))\n",
        "\n",
        "simple_interest = ((amount*interest/100)*time)\n",
        "print(f'Total interest for this will be, {simple_interest}/-')"
      ],
      "metadata": {
        "id": "s40DlReZsTmY",
        "colab": {
          "base_uri": "https://localhost:8080/"
        },
        "outputId": "1728bcd9-7863-4331-e2cb-9443319b9aed"
      },
      "execution_count": 15,
      "outputs": [
        {
          "output_type": "stream",
          "name": "stdout",
          "text": [
            "Enter the principal amount:86500\n",
            "Enter the interest rate: 7.20\n",
            "Enter the time period in years: 5\n",
            "Total interest for this will be, 31140.0/-\n"
          ]
        }
      ]
    },
    {
      "cell_type": "markdown",
      "source": [
        "### Q6:- Write a program that will tell the number of dogs and chicken are there when the user will provide the value of total heads and legs.\n",
        "\n",
        "For example:\n",
        "Input:\n",
        "heads -> 4\n",
        "legs -> 12\n",
        "<br>\n",
        "Output:\n",
        "dogs -> 2\n",
        "chicken -> 2\n",
        "\n",
        "\n",
        "\n"
      ],
      "metadata": {
        "id": "LMy0BTUktYKa"
      }
    },
    {
      "cell_type": "code",
      "source": [
        "# Write your code here\n",
        "head = int(input('Enter the head counts: '))\n",
        "legs = int(input('Enter the leg counts: '))\n",
        "\n",
        "chickens = int(((head*4)-legs)/2)\n",
        "dogs = int(head-chickens)\n",
        "\n",
        "print(f'The total number of dog is {dogs} & chicken is {chickens}')"
      ],
      "metadata": {
        "id": "XSBvJoA4tXaG",
        "colab": {
          "base_uri": "https://localhost:8080/"
        },
        "outputId": "c37f647b-55cc-4808-a142-2aa0b8317bbc"
      },
      "execution_count": 18,
      "outputs": [
        {
          "output_type": "stream",
          "name": "stdout",
          "text": [
            "Enter the head counts: 18\n",
            "Enter the leg counts: 52\n",
            "The total number of dog is 8 & chicken is 10\n"
          ]
        }
      ]
    },
    {
      "cell_type": "markdown",
      "source": [
        "### Q7:- Write a program to find the sum of squares of first n natural numbers where n will be provided by the user."
      ],
      "metadata": {
        "id": "gJ7C5kZYt4BP"
      }
    },
    {
      "cell_type": "code",
      "source": [
        "# Write your code here\n",
        "n = int(input ('Enter the range:'))\n",
        "output = 0\n",
        "for i in range(1,(n+1)):\n",
        "  output += i**2\n",
        "\n",
        "print(f'The sum of squares of first {n} natural numbers is :{output} ')\n"
      ],
      "metadata": {
        "id": "_tHsmEHzt2nX",
        "colab": {
          "base_uri": "https://localhost:8080/"
        },
        "outputId": "6b194caa-4ec8-4826-d000-ed873c88c194"
      },
      "execution_count": 26,
      "outputs": [
        {
          "output_type": "stream",
          "name": "stdout",
          "text": [
            "Enter the range:100\n",
            "The sum of squares of first 100 natural numbers is :338350 \n"
          ]
        }
      ]
    },
    {
      "cell_type": "markdown",
      "source": [
        "\n",
        "### Q8:- Given the first 2 terms of an Arithmetic Series.Find the Nth term of the series. Assume all inputs are provided by the user."
      ],
      "metadata": {
        "id": "FHrMM7g-yG1h"
      }
    },
    {
      "cell_type": "code",
      "source": [
        "# Write your code here\n",
        "inputs = list (map(int, input('Enter the first two term separeted by space: ').split(' ')))\n",
        "n = int(input('Enter the range: '))\n",
        "difference = int(inputs[1] - inputs[0])\n",
        "output =  int(inputs[0] + (n-1)*difference)\n",
        "print(f'The {n}th term of this arithmatic series is {output}')\n"
      ],
      "metadata": {
        "id": "go4_kmZmyVSx",
        "colab": {
          "base_uri": "https://localhost:8080/"
        },
        "outputId": "d25a2e2b-197e-4e08-c6e8-64fdf119a489"
      },
      "execution_count": 7,
      "outputs": [
        {
          "output_type": "stream",
          "name": "stdout",
          "text": [
            "Enter the first two term separeted by space: 3 7\n",
            "Enter the range: 78\n",
            "The 78th term of this arithmatic series is 311\n"
          ]
        }
      ]
    },
    {
      "cell_type": "markdown",
      "source": [
        "### Q9:- Given 2 fractions, find the sum of those 2 fractions.Take the numerator and denominator values of the fractions from the user."
      ],
      "metadata": {
        "id": "QgyRX_es1oum"
      }
    },
    {
      "cell_type": "code",
      "source": [
        "# Write your code here\n",
        "n1, d1 = map(int,(input(\"enter the first fraction: \").split('/')))\n",
        "n2, d2 = map(int,(input(\"enter the second fraction: \").split('/')))\n",
        "\n",
        "result = float(n1*d2 + n2*d1) /(d1*d2)\n",
        "\n",
        "print(f'The sum of the fractions are {result}')"
      ],
      "metadata": {
        "id": "X05xqFS1yW16",
        "colab": {
          "base_uri": "https://localhost:8080/"
        },
        "outputId": "584ee2a8-2e65-4b23-85d5-ed567a1d72ee"
      },
      "execution_count": 3,
      "outputs": [
        {
          "output_type": "stream",
          "name": "stdout",
          "text": [
            "enter the first fraction: 4/5\n",
            "enter the second fraction: 5/6\n",
            "The sum of the fractions are 1.6333333333333333\n"
          ]
        }
      ]
    },
    {
      "cell_type": "markdown",
      "source": [
        "### Q10:- Given the height, width and breadth of a milk tank, you have to find out how many glasses of milk can be obtained? Assume all the inputs are provided by the user.\n",
        "\n",
        "\n",
        "\n",
        "Input:<br>\n",
        "Dimensions of the milk tank<br>\n",
        "H = 20cm, L = 20cm, B = 20cm\n",
        "<br><br>\n",
        "Dimensions of the glass<br>\n",
        "h = 3cm, r = 1cm"
      ],
      "metadata": {
        "id": "eaql38ln13u7"
      }
    },
    {
      "cell_type": "code",
      "source": [
        "# Write your code here\n",
        "lt,bt,ht = map (float,input('Enter the Length,Breath & Height of the tank separeted by a space: ').split(' '))\n",
        "rg,hg = map (float, input('Enter the radious & height of each glass separeted by a space: ').split(' '))\n",
        "\n",
        "v_tank = (lt*bt*ht)\n",
        "v_glass = ((22/7)*hg*(rg**2))\n",
        "n = int(v_tank/v_glass)\n",
        "\n",
        "print(f'The number of glass full of milk can be filled from the tank is:n {n} ')"
      ],
      "metadata": {
        "id": "FePZqno74eWv",
        "colab": {
          "base_uri": "https://localhost:8080/"
        },
        "outputId": "39416a8b-a2e1-4992-dfa5-91965b7f85f7"
      },
      "execution_count": 6,
      "outputs": [
        {
          "output_type": "stream",
          "name": "stdout",
          "text": [
            "Enter the Length,Breath & Height of the tank separeted by a space: 20 20 20\n",
            "Enter the radious & height of each glass separeted by a space: 1 3\n",
            "The number of glass full of milk can be filled from the tank is:n 848 \n"
          ]
        }
      ]
    },
    {
      "cell_type": "code",
      "source": [
        "()"
      ],
      "metadata": {
        "id": "DPt3RlYK1GKv"
      },
      "execution_count": null,
      "outputs": []
    }
  ]
}